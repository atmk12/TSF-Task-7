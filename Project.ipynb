{
    "cells": [
        {
            "cell_type": "markdown",
            "metadata": {},
            "source": [
                "## Using ARIMA Model to Predict the Movement of Stock Market in the Near Future\n",
                "\n",
                "Importing Libraries\n"
            ]
        },
        {
            "cell_type": "code",
            "execution_count": null,
            "metadata": {},
            "outputs": [],
            "source": [
                "library(tidyverse)\n",
                "library(tseries)\n",
                "library(forecast)\n",
                "library(ggplot2)\n",
                "library(caTools)\n",
                "library(rpart)\n",
                "library(syuzhet)\n",
                "library(randomForest)\n"
            ]
        },
        {
            "cell_type": "markdown",
            "metadata": {},
            "source": [
                "Reading the file and Data Preprocessing\n",
                "\n"
            ]
        },
        {
            "cell_type": "code",
            "execution_count": null,
            "metadata": {},
            "outputs": [],
            "source": [
                "df <- read.csv(file.choose())\n",
                "start <- which(rownames(df) == \"January-2012\")\n",
                "end <- which(rownames(df) == \"December-2019\")               \n",
                "df <- df[start:end,]\n",
                "df$MonthsNew <- rownames(df)\n",
                "df <- df[,c(4,6)]\n",
                "colnames(df) <- c(\"Close\", \"Month\")\n",
                "df<- df[,c(2,1)]\n",
                "rownames(df) <- NULL\n",
                "df %>% separate(Month, c(\"Month\",\"Year\"), sep = \"-\" )\n"
            ]
        },
        {
            "cell_type": "markdown",
            "metadata": {},
            "source": [
                "Converting into Time Series\n",
                "\n"
            ]
        },
        {
            "cell_type": "code",
            "execution_count": null,
            "metadata": {},
            "outputs": [],
            "source": [
                "ts <- ts(df$Close, freq = 12, start = c(2012, 1), end = c(2019, 12))\n",
                "ts\n",
                "plot(ts)\n"
            ]
        },
        {
            "cell_type": "markdown",
            "metadata": {},
            "source": [
                "Making the Time Series Stationary and Plotting Different Components of Time Series\n",
                "\n"
            ]
        },
        {
            "cell_type": "code",
            "execution_count": null,
            "metadata": {},
            "outputs": [],
            "source": [
                "ts_log <- log(ts)\n",
                "plot(ts_log)\n",
                "\n",
                "decomp <- decompose(ts_log)\n",
                "plot(decomp)\n"
            ]
        },
        {
            "cell_type": "markdown",
            "metadata": {},
            "source": [
                "Findng the Best Fittting ARIMA Model\n",
                "\n"
            ]
        },
        {
            "cell_type": "code",
            "execution_count": null,
            "metadata": {},
            "outputs": [],
            "source": [
                "model <- auto.arima(ts_log)\n",
                "model\n"
            ]
        },
        {
            "cell_type": "markdown",
            "metadata": {},
            "source": [
                "Plotting ACF and PACF Graphs for the Best Fittting ARIMA Model\n",
                "\n"
            ]
        },
        {
            "cell_type": "code",
            "execution_count": null,
            "metadata": {},
            "outputs": [],
            "source": [
                "acf(model$residuals)\n",
                "pacf(model$residuals)\n",
                "\n",
                "Box.test(model$residuals, type = 'Ljung-Box')\n",
                "adf.test(diff(ts_log))\n"
            ]
        },
        {
            "cell_type": "markdown",
            "metadata": {},
            "source": [
                "Forecasting and Plotting the Forecast\n",
                "\n"
            ]
        },
        {
            "cell_type": "code",
            "execution_count": null,
            "metadata": {},
            "outputs": [],
            "source": [
                "f <- forecast(model, 12)\n",
                "f\n",
                "autoplot(f) \n"
            ]
        },
        {
            "cell_type": "markdown",
            "metadata": {},
            "source": [
                "## Using Natural Language Processing to Gauge the Effect of News Headlines on Stock Market\n",
                "\n",
                "Importing the Dataset\n"
            ]
        },
        {
            "cell_type": "code",
            "execution_count": null,
            "metadata": {},
            "outputs": [],
            "source": [
                "news <- read.csv(file.choose(),stringsAsFactors = F)\n",
                "news2 <- news\n"
            ]
        },
        {
            "cell_type": "markdown",
            "metadata": {},
            "source": [
                "Data Preprocessing\n",
                "\n"
            ]
        },
        {
            "cell_type": "code",
            "execution_count": null,
            "metadata": {},
            "outputs": [],
            "source": [
                "news$publish_date <- as.Date(as.character(news$publish_date), \"%Y%m%d\")\n",
                "news$headline_category <- NULL\n",
                "news <- news[news$publish_date > as.Date(\"2012-01-01\") & news$publish_date < as.Date(\"2019-12-31\"),]\n",
                "news <- separate(news, publish_date, c(\"Year\",\"Month\",\"Day\"), \"-\")\n",
                "news$Day <- NULL\n",
                "news$time <- paste(news$Month, \"-\", news$Year) \n",
                "news$Month <- NULL\n",
                "news$Year <- NULL\n",
                "news2 <- news\n"
            ]
        },
        {
            "cell_type": "markdown",
            "metadata": {},
            "source": [
                "Collapsing the Dataframe into Monthly News\n",
                "\n"
            ]
        },
        {
            "cell_type": "code",
            "execution_count": null,
            "metadata": {},
            "outputs": [],
            "source": [
                "news3 <- news %>% group_by(time) %>% summarise(headline_text=paste(headline_text, collapse = \" \"))\n",
                "\n"
            ]
        },
        {
            "cell_type": "markdown",
            "metadata": {},
            "source": [
                "Sentiment Analysis of the News Headlines\n",
                "\n"
            ]
        },
        {
            "cell_type": "code",
            "execution_count": null,
            "metadata": {},
            "outputs": [],
            "source": [
                "text <- as.character(news3$headline_text)\n",
                "class(news3$headline_text)\n",
                "s <- get_nrc_sentiment(text)\n",
                "head(s)\n"
            ]
        },
        {
            "cell_type": "markdown",
            "metadata": {},
            "source": [
                "Merging the Stock Closing Index and News Headlines Dataframe\n",
                "\n"
            ]
        },
        {
            "cell_type": "code",
            "execution_count": null,
            "metadata": {},
            "outputs": [],
            "source": [
                "final <- data.frame(df$Month, s, df$Close)\n",
                "final$PrevClose[2:96]<- final$df.Close[1:95]\n",
                "final$PrevClose[1] <- 15454.92\n",
                "final$Change <- (final$df.Close - final$PrevClose)*100/final$PrevClose \n",
                "final$Change <-   round(final$Change, 2)\n",
                "final$Class <- ifelse(final$Change > 0, 1 , 0)\n",
                "head(final,10)\n"
            ]
        },
        {
            "cell_type": "markdown",
            "metadata": {},
            "source": [
                "Feature Selection, Scaling and Factorization\n",
                "\n"
            ]
        },
        {
            "cell_type": "code",
            "execution_count": null,
            "metadata": {},
            "outputs": [],
            "source": [
                "final2 <- final[,c(-1,-12:-14)]\n",
                "final2[,1:10] <- scale(final2[,1:10])\n",
                "final2$Class <- factor(final2$Class)\n",
                "class(final2$Class)\n",
                "head(final2)\n"
            ]
        },
        {
            "cell_type": "markdown",
            "metadata": {},
            "source": [
                "Splitting Data into Training and Test Data Sets\n",
                "\n"
            ]
        },
        {
            "cell_type": "code",
            "execution_count": null,
            "metadata": {},
            "outputs": [],
            "source": [
                "split <- sample.split(final2$Class, SplitRatio = 0.75)\n",
                "training <- subset(final2, split == T)\n",
                "test <- subset(final2, split == F)\n",
                "colnames(final2)\n"
            ]
        },
        {
            "cell_type": "markdown",
            "metadata": {},
            "source": [
                "Logistic Regression Classifier\n",
                "\n"
            ]
        },
        {
            "cell_type": "code",
            "execution_count": null,
            "metadata": {},
            "outputs": [],
            "source": [
                "lr_classifier <- glm(formula = Class ~ . , family = binomial, data = training )\n",
                "summary(lr_classifier)\n",
                "\n",
                "prob <- predict(lr_classifier, type = 'response', newdata = test[-11])\n",
                "prob\n",
                "y <- ifelse(prob > 0.5, 1, 0)\n",
                "y\n"
            ]
        },
        {
            "cell_type": "markdown",
            "metadata": {},
            "source": [
                "Confusion Matrix for Logistic Regression Classifier\n",
                "\n"
            ]
        },
        {
            "cell_type": "code",
            "execution_count": null,
            "metadata": {},
            "outputs": [],
            "source": [
                "lr_cm <- table(test$Class, y)\n",
                "lr_cm\n"
            ]
        },
        {
            "cell_type": "markdown",
            "metadata": {},
            "source": [
                "Decision Tree Classifier\n",
                "\n"
            ]
        },
        {
            "cell_type": "code",
            "execution_count": null,
            "metadata": {},
            "outputs": [],
            "source": [
                "dtclassifier <- rpart(formula = Class ~ . , data = training)\n",
                "\n",
                "dt_y <- predict(dtclassifier, newdata = test[-11], type = 'class')\n",
                "dt_y\n"
            ]
        },
        {
            "cell_type": "markdown",
            "metadata": {},
            "source": [
                "Confusion Matrix for Decision Tree Classifier\n",
                "\n"
            ]
        },
        {
            "cell_type": "code",
            "execution_count": null,
            "metadata": {},
            "outputs": [],
            "source": [
                "cm <- table(test$Class, dt_y)\n",
                "cm\n"
            ]
        },
        {
            "cell_type": "markdown",
            "metadata": {},
            "source": [
                "Random Forest Classifier\n",
                "\n"
            ]
        },
        {
            "cell_type": "code",
            "execution_count": null,
            "metadata": {},
            "outputs": [],
            "source": [
                "rf_classifier <- randomForest(x=training[-11], y=training$Class, ntree = 300)\n",
                "\n",
                "rf_y <- predict(rf_classifier, newdata = test[-11])\n",
                "rf_y\n"
            ]
        },
        {
            "cell_type": "markdown",
            "metadata": {},
            "source": [
                "Confusion Matrix for Random Forest Classifier\n",
                "\n"
            ]
        },
        {
            "cell_type": "code",
            "execution_count": null,
            "metadata": {},
            "outputs": [],
            "source": [
                "cm <- table(test$Class, rf_y)\n",
                "cm\n"
            ]
        },
        {
            "cell_type": "markdown",
            "metadata": {},
            "source": [
                "*We see the Random Forest Classifier at 300 trees gives the best output.*\n",
                "\n",
                "### ------------------------------------------------------------------------------------------------------------------------------------------------------------\n"
            ]
        }
    ],
    "metadata": {
        "anaconda-cloud": "",
        "kernelspec": {
            "display_name": "R",
            "langauge": "R",
            "name": "ir"
        },
        "language_info": {
            "codemirror_mode": "r",
            "file_extension": ".r",
            "mimetype": "text/x-r-source",
            "name": "R",
            "pygments_lexer": "r",
            "version": "3.4.1"
        }
    },
    "nbformat": 4,
    "nbformat_minor": 1
}
